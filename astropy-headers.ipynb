{
 "cells": [
  {
   "cell_type": "markdown",
   "metadata": {},
   "source": [
    "Para começar, deve-se importar o pacote de comandos do FITS. Ele se encontra dentro da biblioteca de entrada e saída do astropy."
   ]
  },
  {
   "cell_type": "code",
   "execution_count": 1,
   "metadata": {
    "collapsed": true
   },
   "outputs": [],
   "source": [
    "from astropy.io import fits "
   ]
  },
  {
   "cell_type": "markdown",
   "metadata": {
    "collapsed": true
   },
   "source": [
    "Após imporotado o pacote, é necessário localizar o arquivo FITS desejado e atribuir à variáveis internas no Phyton. O comando getdata() atribui, por padrão, a parte de informação da imagem FITS. Através do parametro booleano 'header' é possível obter também o cabeçalho.\n",
    "\n",
    "No exemplo o arquivo \"exemplo_de_entrada.fits\" deve estar no diretório corrente de execução."
   ]
  },
  {
   "cell_type": "code",
   "execution_count": 2,
   "metadata": {
    "collapsed": true
   },
   "outputs": [],
   "source": [
    "data, header = fits.getdata(\"exemplo_de_entrada.fits\", header=True)"
   ]
  },
  {
   "cell_type": "markdown",
   "metadata": {},
   "source": [
    "Através do comando getheader() é possível visualizar as informações atuais do cabeçalho do arquivo"
   ]
  },
  {
   "cell_type": "code",
   "execution_count": 3,
   "metadata": {
    "collapsed": false
   },
   "outputs": [
    {
     "data": {
      "text/plain": [
       "SIMPLE  =                    T / conforms to FITS standard                      \n",
       "BITPIX  =                  -64 / array data type                                \n",
       "NAXIS   =                    2 / number of array dimensions                     \n",
       "NAXIS1  =                  100                                                  \n",
       "NAXIS2  =                  100                                                  \n",
       "OBJECT  = 'P69     '                                                            \n",
       "LIXO    = 'info inutil'                                                         "
      ]
     },
     "execution_count": 3,
     "metadata": {},
     "output_type": "execute_result"
    }
   ],
   "source": [
    "fits.getheader('exemplo_de_entrada.fits')"
   ]
  },
  {
   "cell_type": "markdown",
   "metadata": {},
   "source": [
    "Com o 'print(type(data))' ele mostra o tipo de variável e o 'print(header[\"NAXIS\"])' ele imprime somente o campo discriminado  do header, nesse exemplo o campo \"NAXIS\""
   ]
  },
  {
   "cell_type": "code",
   "execution_count": 4,
   "metadata": {
    "collapsed": false
   },
   "outputs": [
    {
     "name": "stdout",
     "output_type": "stream",
     "text": [
      "<class 'numpy.ndarray'>\n",
      "2\n"
     ]
    }
   ],
   "source": [
    "print(type(data))\n",
    "print(header[\"NAXIS\"])"
   ]
  },
  {
   "cell_type": "markdown",
   "metadata": {},
   "source": [
    "Ao digitar 'header['OBJECT']' ele altera a variável \"header\" no campo já existente \"OBJECT\" para \"M31\" e faz um comentário \"galaxia andromeda\". Obs: caso não queira fazer nenhum comentário é só deixar ('M31')."
   ]
  },
  {
   "cell_type": "code",
   "execution_count": 5,
   "metadata": {
    "collapsed": true
   },
   "outputs": [],
   "source": [
    "header['OBJECT'] = ('M31','galaxia andromeda')"
   ]
  },
  {
   "cell_type": "markdown",
   "metadata": {
    "collapsed": true
   },
   "source": [
    "Para adicionar novos campos à variável header, utilizaremos a chave de indexação no variável (header['CHAVE']) e colocaremos um campo que não existe ainda. Como exemplo, adicionaremos o campo AR, DEC e FONTE, que se refere à ascensão reta, decliação e a fonte desses dados referentes a galáxia de andrômeda. Utilizando novamente o comando 'header['AR']', alteramos a variável header e criamos o \"AR\" e atribuimos a ele o valor \"0 42 44\". "
   ]
  },
  {
   "cell_type": "code",
   "execution_count": 6,
   "metadata": {
    "collapsed": false
   },
   "outputs": [],
   "source": [
    "header['AR'] = ('0 42 44') #Ascenção reta está no formato em horas, minutos e segundos respectivamente"
   ]
  },
  {
   "cell_type": "markdown",
   "metadata": {},
   "source": [
    "Para a o campo \"DEC\", fazemos o mesmo só que atribuímos o valor \"41 16 19\". "
   ]
  },
  {
   "cell_type": "code",
   "execution_count": 7,
   "metadata": {
    "collapsed": false
   },
   "outputs": [],
   "source": [
    "header['DEC'] = ('41 16 19') #Declinação está no formato em graus, minutos e segundos respectivamente"
   ]
  },
  {
   "cell_type": "markdown",
   "metadata": {},
   "source": [
    "E para o campo \"FONTE\" atribuimos o link de onde os dados de ascenção reta e declinação foram retirados"
   ]
  },
  {
   "cell_type": "code",
   "execution_count": 8,
   "metadata": {
    "collapsed": true
   },
   "outputs": [],
   "source": [
    "header['FONTE'] = (\"https://pt.wikipedia.org/wiki/Gal%C3%A1xia_de_Andr%C3%B4meda\")"
   ]
  },
  {
   "cell_type": "markdown",
   "metadata": {},
   "source": [
    "Utilizando 'header.remove('LIXO')' nós removemos o campo \"LIXO\" que foi uma forma de exemplificar um campo trazido pela FITS que não é relevante para o trabalho."
   ]
  },
  {
   "cell_type": "code",
   "execution_count": 9,
   "metadata": {
    "collapsed": false
   },
   "outputs": [],
   "source": [
    "header.remove('LIXO')"
   ]
  },
  {
   "cell_type": "markdown",
   "metadata": {},
   "source": [
    "Com esse comando criamos um novo arquivo com o nome \"exemplo_de_saida.fits\" e atribuímos a variável header a esse novo arquivo, que foi criado na mesma pasta onde os arquivos de trabalho estão."
   ]
  },
  {
   "cell_type": "code",
   "execution_count": 10,
   "metadata": {
    "collapsed": false
   },
   "outputs": [],
   "source": [
    "fits.writeto('exemplo_de_saida.fits', data, header, overwrite=True)"
   ]
  },
  {
   "cell_type": "markdown",
   "metadata": {},
   "source": [
    "Aviso: Caso você esteja usando um Python abaixo da versão 3.6, substituir o comando overwrite=True por clobber=True."
   ]
  },
  {
   "cell_type": "markdown",
   "metadata": {},
   "source": [
    "Para mostrar como ficou o novo arquivo utilizamos 'fits.getheader('exemplo_de_saida.fits')' para imprimir o novo header criado"
   ]
  },
  {
   "cell_type": "code",
   "execution_count": 11,
   "metadata": {
    "collapsed": false
   },
   "outputs": [
    {
     "data": {
      "text/plain": [
       "SIMPLE  =                    T / conforms to FITS standard                      \n",
       "BITPIX  =                  -64 / array data type                                \n",
       "NAXIS   =                    2 / number of array dimensions                     \n",
       "NAXIS1  =                  100                                                  \n",
       "NAXIS2  =                  100                                                  \n",
       "OBJECT  = 'M31     '           / galaxia andromeda                              \n",
       "AR      = '0 42 44 '                                                            \n",
       "DEC     = '41 16 19'                                                            \n",
       "FONTE   = 'https://pt.wikipedia.org/wiki/Gal%C3%A1xia_de_Andr%C3%B4meda'        "
      ]
     },
     "execution_count": 11,
     "metadata": {},
     "output_type": "execute_result"
    }
   ],
   "source": [
    "fits.getheader('exemplo_de_saida.fits')"
   ]
  }
 ],
 "metadata": {
  "kernelspec": {
   "display_name": "Python [default]",
   "language": "python",
   "name": "python3"
  },
  "language_info": {
   "codemirror_mode": {
    "name": "ipython",
    "version": 3
   },
   "file_extension": ".py",
   "mimetype": "text/x-python",
   "name": "python",
   "nbconvert_exporter": "python",
   "pygments_lexer": "ipython3",
   "version": "3.5.2"
  }
 },
 "nbformat": 4,
 "nbformat_minor": 2
}
