{
 "cells": [
  {
   "cell_type": "markdown",
   "metadata": {},
   "source": [
    "# Unidades no Astropy\n",
    "\n",
    "Astropy já tem as principais constantes catalogadas com unidades e outras informações relevantes.\n",
    "\n",
    "O link do manual é: http://docs.astropy.org/en/stable/constants/\n",
    "\n",
    "Neste link estão especificadas as constantes e suas unidades.\n",
    "\n",
    "No astropy são definidas quantidades, que são objetos que tem valores com suas unidades associadas. \n",
    "\n",
    "Abaixo um exemplo de como chamar o modulo de constantes:\n"
   ]
  },
  {
   "cell_type": "code",
   "execution_count": 25,
   "metadata": {
    "collapsed": false
   },
   "outputs": [
    {
     "name": "stdout",
     "output_type": "stream",
     "text": [
      "  Name   = Gravitational constant\n",
      "  Value  = 6.67384e-11\n",
      "  Uncertainty  = 8e-15\n",
      "  Unit  = m3 / (kg s2)\n",
      "  Reference = CODATA 2010\n",
      "\n",
      "Gravitational constant 6.67384e-11 m3 / (kg s2)\n"
     ]
    }
   ],
   "source": [
    "import astropy.units as u                   # para importar o módulo de unidades\n",
    "from astropy.constants import G, h, k_B     # importando algumas constantes\n",
    "\n",
    "# o que está contido nas constantes\n",
    "print G\n",
    "print ''\n",
    "\n",
    "# podemos também imprimir partes específicas da constante\n",
    "print G.name, G.value, G.unit"
   ]
  },
  {
   "cell_type": "markdown",
   "metadata": {},
   "source": [
    "Note que as constantes são quantidades do astropy pois possuem unidades. Podemos converter as constantes para outros sistemas de unidades com"
   ]
  },
  {
   "cell_type": "code",
   "execution_count": 26,
   "metadata": {
    "collapsed": false
   },
   "outputs": [
    {
     "name": "stdout",
     "output_type": "stream",
     "text": [
      "6.67384e-08 cm3 / (g s2)\n"
     ]
    }
   ],
   "source": [
    "print G.cgs"
   ]
  },
  {
   "cell_type": "code",
   "execution_count": 27,
   "metadata": {
    "collapsed": false
   },
   "outputs": [
    {
     "name": "stdout",
     "output_type": "stream",
     "text": [
      "  Name   = Gravitational constant\n",
      "  Value  = 6.67384e-11\n",
      "  Uncertainty  = 8e-15\n",
      "  Unit  = m3 / (kg s2)\n",
      "  Reference = CODATA 2010\n"
     ]
    }
   ],
   "source": [
    "print G.si"
   ]
  },
  {
   "cell_type": "code",
   "execution_count": 28,
   "metadata": {
    "collapsed": false
   },
   "outputs": [
    {
     "name": "stdout",
     "output_type": "stream",
     "text": [
      "1.334768e-09 m3 / (kg s2)\n"
     ]
    }
   ],
   "source": [
    "print 20*G  #fazendo contas simples com as constantes"
   ]
  },
  {
   "cell_type": "markdown",
   "metadata": {},
   "source": [
    "Como as constantes tem nomes simples pode ser interessante utiliza-las usando o nome do módulo para evitar conflitos com nomes de variáveis. Veja abaixo como fica o exemplo anterior com essa mudança."
   ]
  },
  {
   "cell_type": "code",
   "execution_count": 29,
   "metadata": {
    "collapsed": false
   },
   "outputs": [
    {
     "name": "stdout",
     "output_type": "stream",
     "text": [
      "  Name   = Gravitational constant\n",
      "  Value  = 6.67384e-11\n",
      "  Uncertainty  = 8e-15\n",
      "  Unit  = m3 / (kg s2)\n",
      "  Reference = CODATA 2010\n",
      "\n",
      "Gravitational constant 6.67384e-11 m3 / (kg s2)\n"
     ]
    }
   ],
   "source": [
    "from astropy import constants as const\n",
    "\n",
    "# o que está contido nas constantes\n",
    "print const.G\n",
    "print ''\n",
    "\n",
    "# podemos também imprimir partes específicas da constante\n",
    "print const.G.name, const.G.value, const.G.unit"
   ]
  },
  {
   "cell_type": "markdown",
   "metadata": {},
   "source": [
    "# Calculando o alcance de um projétil\n",
    "\n",
    "Para ilustrar algumas funções do astropy vamos calcular o alcance de um lançamento de projétil. Da mecanica sabemos que um projétil lançado na superfície da Terra tem o seguinte alcance:\n",
    "\n",
    "\\begin{equation}\n",
    "x_{max}=\\frac{v_0^2.sen(2\\theta)}{g}\n",
    "\\end{equation}\n",
    "\n",
    "No exemplo abaixo começamos pela definição da aceleração da gravidade, obtida a partir das constantes do astropy. Posteriormente definimos as condições inicias usando a definição de unidades e por fim realizamos o cálculo."
   ]
  },
  {
   "cell_type": "code",
   "execution_count": 102,
   "metadata": {
    "collapsed": false
   },
   "outputs": [
    {
     "name": "stdout",
     "output_type": "stream",
     "text": [
      "Alcance:  8.83614093953 m\n"
     ]
    }
   ],
   "source": [
    "# obtendo a aceleração gravitacional\n",
    "g = (const.G*const.M_earth)/const.R_earth**2\n",
    "\n",
    "v0 = 10*u.m/u.s\n",
    "\n",
    "# angulo de lançamento\n",
    "theta = 30.*u.degree   \n",
    "\n",
    "#convertendo para radianos\n",
    "theta_rad = theta.to(u.radian)\n",
    "\n",
    "print 'Alcance: ', v0**2*np.sin(2.0*theta_rad)/g"
   ]
  },
  {
   "cell_type": "markdown",
   "metadata": {},
   "source": [
    "note que quando um angulo é definido através de uma quantidade do astropy, as funções trigonométricas do numpy calculam de forma correta mesmo quando o valor é definido em graus"
   ]
  },
  {
   "cell_type": "code",
   "execution_count": 104,
   "metadata": {
    "collapsed": false
   },
   "outputs": [
    {
     "name": "stdout",
     "output_type": "stream",
     "text": [
      "0.5\n",
      "-0.988031624093\n"
     ]
    }
   ],
   "source": [
    "print np.sin(30.*u.degree)    # valor correto do seno\n",
    "print np.sin(30.)             # valor incorreto do seno\n"
   ]
  },
  {
   "cell_type": "markdown",
   "metadata": {},
   "source": [
    "A definição de uma quantidade pode ser feita em um vetor da mesma maneira que em uma variável simples"
   ]
  },
  {
   "cell_type": "code",
   "execution_count": 111,
   "metadata": {
    "collapsed": false
   },
   "outputs": [
    {
     "data": {
      "text/plain": [
       "<matplotlib.text.Text at 0x7f92d7323650>"
      ]
     },
     "execution_count": 111,
     "metadata": {},
     "output_type": "execute_result"
    },
    {
     "data": {
      "image/png": "[encoded data removed]",
      "text/plain": [
       "<matplotlib.figure.Figure at 0x7f92d718f410>"
      ]
     },
     "metadata": {},
     "output_type": "display_data"
    }
   ],
   "source": [
    "# obtendo a aceleração gravitacional\n",
    "g = (const.G*const.M_earth)/const.R_earth**2\n",
    "\n",
    "v0 = 10*u.m/u.s\n",
    "\n",
    "# criando o vetor angulo de lançamento e definindo sua unidade\n",
    "theta = np.linspace(0,90.,100)*u.degree   \n",
    "\n",
    "#convertendo para radianos\n",
    "theta_rad = theta.to(u.radian)\n",
    "\n",
    "#calculando o alcance\n",
    "alc = v0**2*np.sin(2.0*theta_rad)/g\n",
    "\n",
    "plt.plot(theta,alc)\n",
    "plt.xlabel('angulo')\n",
    "plt.ylabel('alcance')"
   ]
  },
  {
   "cell_type": "markdown",
   "metadata": {
    "collapsed": true
   },
   "source": [
    "# Massa de uma galáxia: usando astropy units\n",
    "\n",
    "Neste exemplo, vamos calcular a massa de uma galáxia hipotética. A massa de uma galáxia é uma das quantidades mais importantes para podermos fazer um apropriado estudo das mesmas. Esta quantidade é determinada a partir das medidas de velocidades de suas estrelas e gás interestelar. Considerando uma galáxia elíptica, por exemplo, que se encontra em equilíbrio, temos que $2T+U=0$, sendo $T$ a energia cinética e $U$ a energia potencial.\n",
    "Devido a baixa velocidade de rotação destas galáxias, podemos escrever a $T$ como:\n",
    "\n",
    "\n",
    "\\begin{equation}\n",
    "T=\\frac{Mv^2}{2}\n",
    "\\end{equation}\n",
    "e a energia potencial é dada por:\n",
    "\n",
    "\n",
    "\\begin{equation}\n",
    "U=-\\frac{GM^2}{2R}\n",
    "\\end{equation}\n",
    "\n",
    "\n",
    "Deste modo temos que a massa da galáxia pode ser obtida pela seguinte expressão:\n",
    "\n",
    "\n",
    "\\begin{equation}\n",
    "M=\\frac{2v^2R}{G}\n",
    "\\end{equation}"
   ]
  },
  {
   "cell_type": "markdown",
   "metadata": {},
   "source": [
    "para este exemplo assumimos que a galáxia tem um raio projetado no céu de $r=29~pc$ considerando a distancia da galáxia. Para usar este valor no astropy com suas unidades corretamente precisamos definir uma Quantidade. Para cria o objeto quantidade que queremos basta multiplicar seu valor numérico pela unidade adequada:"
   ]
  },
  {
   "cell_type": "code",
   "execution_count": 59,
   "metadata": {
    "collapsed": false
   },
   "outputs": [
    {
     "name": "stdout",
     "output_type": "stream",
     "text": [
      "29.0 pc\n"
     ]
    }
   ],
   "source": [
    "Reff = 29 * u.pc   # definindo a quantidade Reff\n",
    "\n",
    "print Reff"
   ]
  },
  {
   "cell_type": "code",
   "execution_count": 60,
   "metadata": {
    "collapsed": false
   },
   "outputs": [
    {
     "name": "stdout",
     "output_type": "stream",
     "text": [
      "29.0 pc\n"
     ]
    }
   ],
   "source": [
    "# maneira alternativa de definir uma quantidade\n",
    "\n",
    "Reff = u.Quantity(29, unit=u.pc)\n",
    "\n",
    "print Reff"
   ]
  },
  {
   "cell_type": "markdown",
   "metadata": {},
   "source": [
    "depois de definida a quantidade se pode acessar o valor e a unidade através de:\n"
   ]
  },
  {
   "cell_type": "code",
   "execution_count": 61,
   "metadata": {
    "collapsed": false
   },
   "outputs": [
    {
     "name": "stdout",
     "output_type": "stream",
     "text": [
      "O raio efetivo é:  29.0\n",
      "as unidades são:  pc\n"
     ]
    }
   ],
   "source": [
    "print 'O raio efetivo é: ', Reff.value\n",
    "print 'as unidades são: ', Reff.unit"
   ]
  },
  {
   "cell_type": "markdown",
   "metadata": {},
   "source": [
    "Tendo definido a quantidade de forma adequada, o astropy permite que mudanças de unidades sejam feitas de maneira bem tranquila. Podemos também ver quais são as unidades equivalentes para uma dada quantidade o que pode ajudar na conversão."
   ]
  },
  {
   "cell_type": "code",
   "execution_count": 62,
   "metadata": {
    "collapsed": false
   },
   "outputs": [
    {
     "data": {
      "text/plain": [
       "  Primary name | Unit definition | Aliases                         \n",
       "[\n",
       "  AU           | 1.49598e+11 m   | au, astronomical_unit            ,\n",
       "  Angstrom     | 1e-10 m         | AA, angstrom                     ,\n",
       "  cm           | 0.01 m          | centimeter                       ,\n",
       "  earthRad     | 6.37814e+06 m   | R_earth, Rearth                  ,\n",
       "  jupiterRad   | 7.1492e+07 m    | R_jup, Rjup, R_jupiter, Rjupiter ,\n",
       "  lyr          | 9.46073e+15 m   | lightyear                        ,\n",
       "  m            | irreducible     | meter                            ,\n",
       "  micron       | 1e-06 m         |                                  ,\n",
       "  pc           | 3.08568e+16 m   | parsec                           ,\n",
       "  solRad       | 6.95508e+08 m   | R_sun, Rsun                      ,\n",
       "]"
      ]
     },
     "execution_count": 62,
     "metadata": {},
     "output_type": "execute_result"
    }
   ],
   "source": [
    "u.m.find_equivalent_units()   # mostrar unidades equivalentes do metro"
   ]
  },
  {
   "cell_type": "code",
   "execution_count": 63,
   "metadata": {
    "collapsed": false
   },
   "outputs": [
    {
     "name": "stdout",
     "output_type": "stream",
     "text": [
      "5981679.38112 AU\n",
      "8.94846498625e+23 micron\n",
      "8.94846498625e+17 m\n"
     ]
    }
   ],
   "source": [
    "# para converter as unidades a sintaxe é:\n",
    "\n",
    "print Reff.to(u.AU)   # convertendo para unidades astronomicas\n",
    "\n",
    "print Reff.to(u.micron)   # convertendo para micron\n",
    "\n",
    "print Reff.to(u.m)"
   ]
  },
  {
   "cell_type": "markdown",
   "metadata": {},
   "source": [
    "Para calcular a massa precisamos também da dispersão de velocidades medida na galáxia. Para definir esta quantidade usamos outra funcionalidade interessante do astropy, a combinação de unidade. Para mostrar a flexibilidade do astropy vamos mostrar essa funcionalidade em um vetor de onde obteremos a média e o desvio padrão da distribuição de velocidades."
   ]
  },
  {
   "cell_type": "code",
   "execution_count": 64,
   "metadata": {
    "collapsed": false
   },
   "outputs": [
    {
     "name": "stdout",
     "output_type": "stream",
     "text": [
      "Máximo de v:  221.07367414 km / s\n",
      "Mínimo de v:  196.386120888 km / s\n",
      "Média de v:  206.345899678 km / s\n"
     ]
    }
   ],
   "source": [
    "import numpy as np                         #importando o modulo para lidar com vetores\n",
    "\n",
    "v_mean = 206.                              # definimos a média da distribuição\n",
    "v_sig = 4.3                                # definimos o desvio padrão da distribuição\n",
    "\n",
    "v = np.random.normal(v_mean, v_sig, 500)   # gera um vetor de 500 valores aleatórios de velocidade \n",
    "\n",
    "# para transformar esse vetor em uma quantidade do astropy usamos a combinação de unidades\n",
    "\n",
    "v = v*u.km/u.s\n",
    "\n",
    "print 'Máximo de v: ', np.max(v)\n",
    "print 'Mínimo de v: ', np.min(v)\n",
    "print 'Média de v: ', np.mean(v)\n",
    "\n",
    "# note que o print já mostra as unidades corretamente"
   ]
  },
  {
   "cell_type": "code",
   "execution_count": 65,
   "metadata": {
    "collapsed": false
   },
   "outputs": [
    {
     "data": {
      "text/plain": [
       "<matplotlib.text.Text at 0x7f92dc02a790>"
      ]
     },
     "execution_count": 65,
     "metadata": {},
     "output_type": "execute_result"
    },
    {
     "data": {
      "image/png": "[encoded data removed]",
      "text/plain": [
       "<matplotlib.figure.Figure at 0x7f92dc2c5fd0>"
      ]
     },
     "metadata": {},
     "output_type": "display_data"
    }
   ],
   "source": [
    "# podemos plotar um histograma para visualizar a distribuição de valores\n",
    "\n",
    "import matplotlib.pyplot as plt     # importanto o modulo de gráficos\n",
    "\n",
    "# fazer os graficos na propria pagina\n",
    "%matplotlib inline                  \n",
    "\n",
    "plt.hist(v, bins=20, alpha=0.3)\n",
    "plt.xlabel(\"Velocity (km/s)\")\n",
    "plt.ylabel(\"N\")"
   ]
  },
  {
   "cell_type": "markdown",
   "metadata": {},
   "source": [
    "O astropy é feito de modo a permitir operações usuais com as quantidades assim como uso das funções matemáticas do numpy. Além disso, assim como anteriormente podemos mudar as unidades de maneira simples:"
   ]
  },
  {
   "cell_type": "code",
   "execution_count": 66,
   "metadata": {
    "collapsed": false
   },
   "outputs": [
    {
     "name": "stdout",
     "output_type": "stream",
     "text": [
      "206.345899678 km / s +/- 4.42387800811 km / s\n",
      "206345.899678 m / s\n"
     ]
    }
   ],
   "source": [
    "v_med = np.mean(v)\n",
    "\n",
    "v_sig = np.std(v)\n",
    "\n",
    "\n",
    "print v_med, '+/-', v_sig\n",
    "\n",
    "print v_med.to(u.m/u.s)"
   ]
  },
  {
   "cell_type": "markdown",
   "metadata": {},
   "source": [
    "Com isso podemos agora calcular a massa da galáxia com a equação mostrada acima:\n",
    "    "
   ]
  },
  {
   "cell_type": "code",
   "execution_count": 67,
   "metadata": {
    "collapsed": false
   },
   "outputs": [
    {
     "name": "stdout",
     "output_type": "stream",
     "text": [
      "Massa da galáxia:  3.40164104797e+13 kg km2 pc / m3\n"
     ]
    }
   ],
   "source": [
    "M = 4*v_sig**2*Reff/const.G\n",
    "print 'Massa da galáxia: ',M"
   ]
  },
  {
   "cell_type": "code",
   "execution_count": 68,
   "metadata": {
    "collapsed": false
   },
   "outputs": [
    {
     "data": {
      "text/latex": [
       "$3.401641 \\times 10^{13} \\; \\mathrm{\\frac{km^{2}\\,kg\\,pc}{m^{3}}}$"
      ],
      "text/plain": [
       "<Quantity 34016410479659.83 kg km2 pc / m3>"
      ]
     },
     "execution_count": 68,
     "metadata": {},
     "output_type": "execute_result"
    }
   ],
   "source": [
    "# se digitamos apenas M o notebook formata a saida\n",
    "\n",
    "M"
   ]
  },
  {
   "cell_type": "markdown",
   "metadata": {},
   "source": [
    "Repare no entanto que as unidades não estão simplificadas. Para fazer a simplificação o astropy dispõe do metodo decompose:"
   ]
  },
  {
   "cell_type": "code",
   "execution_count": 69,
   "metadata": {
    "collapsed": false
   },
   "outputs": [
    {
     "name": "stdout",
     "output_type": "stream",
     "text": [
      "Massa da galáxia: \n"
     ]
    },
    {
     "data": {
      "text/latex": [
       "$1.0496368 \\times 10^{36} \\; \\mathrm{kg}$"
      ],
      "text/plain": [
       "<Quantity 1.0496367521907197e+36 kg>"
      ]
     },
     "execution_count": 69,
     "metadata": {},
     "output_type": "execute_result"
    }
   ],
   "source": [
    "print 'Massa da galáxia: '\n",
    "M.decompose()"
   ]
  },
  {
   "cell_type": "markdown",
   "metadata": {},
   "source": [
    "podemos também expressar a massa em termos de massas solares ou mesmo outros sistemas:"
   ]
  },
  {
   "cell_type": "code",
   "execution_count": 70,
   "metadata": {
    "collapsed": false
   },
   "outputs": [
    {
     "name": "stdout",
     "output_type": "stream",
     "text": [
      "em massas solares:  527694.310085 solMass\n",
      " no sitema SI:  1.04963675219e+36 kg\n",
      "no sistema cgs:  1.04963675219e+39 g\n"
     ]
    },
    {
     "data": {
      "text/latex": [
       "$527694.31 \\; \\mathrm{M_{\\odot}}$"
      ],
      "text/plain": [
       "<Quantity 527694.3100853249 solMass>"
      ]
     },
     "execution_count": 70,
     "metadata": {},
     "output_type": "execute_result"
    }
   ],
   "source": [
    "print 'em massas solares: ',M.to(u.Msun)\n",
    "print ' no sitema SI: ', M.si\n",
    "print 'no sistema cgs: ', M.cgs\n",
    "\n",
    "# impressão formatada do notebook\n",
    "M.to(u.Msun)"
   ]
  }
 ],
 "metadata": {
  "kernelspec": {
   "display_name": "Python [Root]",
   "language": "python",
   "name": "Python [Root]"
  },
  "language_info": {
   "codemirror_mode": {
    "name": "ipython",
    "version": 2
   },
   "file_extension": ".py",
   "mimetype": "text/x-python",
   "name": "python",
   "nbconvert_exporter": "python",
   "pygments_lexer": "ipython2",
   "version": "2.7.12"
  }
 },
 "nbformat": 4,
 "nbformat_minor": 0
}
